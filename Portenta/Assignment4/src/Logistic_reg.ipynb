{
 "cells": [
  {
   "cell_type": "code",
   "execution_count": 1,
   "id": "6d093063-2f05-4840-b29c-93d277dfd075",
   "metadata": {},
   "outputs": [],
   "source": [
    "from skimage import io\n",
    "import numpy as np\n",
    "import os\n",
    "import pandas as pd\n",
    "import seaborn as sns"
   ]
  },
  {
   "cell_type": "code",
   "execution_count": 2,
   "id": "c4ae7934-d71a-40d8-8acd-0bc10d594c85",
   "metadata": {},
   "outputs": [],
   "source": [
    "import warnings\n",
    "warnings.filterwarnings('ignore')"
   ]
  },
  {
   "cell_type": "code",
   "execution_count": 3,
   "id": "f30dd3ce-2b81-46d0-998f-d97ed1f963c4",
   "metadata": {},
   "outputs": [],
   "source": [
    "folder = '../class_data/Apple-20220324T003432Z-001'\n",
    "images = [os.path.join(root, filename)\n",
    "          for root, dirs, files in os.walk(folder)\n",
    "          for filename in files\n",
    "          if filename.lower().endswith('.jpg')]\n",
    "\n",
    "ic = []\n",
    "for img in images:\n",
    "    ic.append(io.imread(img))"
   ]
  },
  {
   "cell_type": "code",
   "execution_count": 4,
   "id": "1925332c-ee50-4abf-8a3a-40bd883621b0",
   "metadata": {},
   "outputs": [],
   "source": [
    "a1 = []\n",
    "for i in range(len(ic)):\n",
    "    a1.append(ic[i][:,:,0].flatten())\n",
    "\n",
    "b1 = np.array([0]*650 + [1] * 650 + [2]*650)"
   ]
  },
  {
   "cell_type": "code",
   "execution_count": 5,
   "id": "7c966f34-ecf3-4200-8bb4-1b1a92dd4b0f",
   "metadata": {},
   "outputs": [
    {
     "data": {
      "text/plain": [
       "(1950, 76800)"
      ]
     },
     "execution_count": 5,
     "metadata": {},
     "output_type": "execute_result"
    }
   ],
   "source": [
    "a1 = np.array(a1)\n",
    "a1.shape"
   ]
  },
  {
   "cell_type": "code",
   "execution_count": 6,
   "id": "dd0bede0-61f0-4382-b5da-dec0f9a5b496",
   "metadata": {},
   "outputs": [
    {
     "data": {
      "text/plain": [
       "array([0, 0, 0, ..., 2, 2, 2])"
      ]
     },
     "execution_count": 6,
     "metadata": {},
     "output_type": "execute_result"
    }
   ],
   "source": [
    "b1"
   ]
  },
  {
   "cell_type": "code",
   "execution_count": 7,
   "id": "94693d20-283e-46f6-9d77-87d457436bfe",
   "metadata": {},
   "outputs": [],
   "source": [
    "from sklearn.tree import DecisionTreeClassifier\n",
    "from sklearn.linear_model import LogisticRegression\n",
    "from sklearn.model_selection import train_test_split\n",
    "from sklearn.metrics import classification_report\n",
    "from sklearn.metrics import confusion_matrix\n",
    "from sklearn.ensemble import RandomForestClassifier\n",
    "import seaborn as sns\n",
    "import matplotlib.pyplot as plt\n",
    "\n",
    "import sys,os\n",
    "import pandas as pd\n",
    "import numpy as np"
   ]
  },
  {
   "cell_type": "code",
   "execution_count": 8,
   "id": "ce70649c-2e19-4aec-8c59-31628548f1dd",
   "metadata": {},
   "outputs": [
    {
     "name": "stdout",
     "output_type": "stream",
     "text": [
      "(1560, 76800)\n",
      "(390, 76800)\n",
      "(1560,)\n",
      "(390,)\n"
     ]
    }
   ],
   "source": [
    "a_train, a_test, b_train, b_test = train_test_split(a1,b1,train_size=0.8)\n",
    "print(a_train.shape)\n",
    "print(a_test.shape)\n",
    "print(b_train.shape)\n",
    "print(b_test.shape)"
   ]
  },
  {
   "cell_type": "markdown",
   "id": "4205bb65-2ed0-4a36-8c1e-fa6f9f28b179",
   "metadata": {},
   "source": [
    "\n",
    "## Logistic Regression\n"
   ]
  },
  {
   "cell_type": "code",
   "execution_count": 13,
   "id": "7517d0f5-1d18-4bce-ab02-5e59c348b02b",
   "metadata": {},
   "outputs": [
    {
     "data": {
      "text/plain": [
       "LogisticRegression(C=2, random_state=0)"
      ]
     },
     "execution_count": 13,
     "metadata": {},
     "output_type": "execute_result"
    }
   ],
   "source": [
    "import warnings\n",
    "warnings.filterwarnings(\"ignore\")\n",
    "g = LogisticRegression(C=2,random_state=0).fit(a1, b1)\n",
    "g"
   ]
  },
  {
   "cell_type": "code",
   "execution_count": 18,
   "id": "f5bd49d1-b55c-4af3-9236-0d32e3997bcb",
   "metadata": {},
   "outputs": [
    {
     "name": "stdout",
     "output_type": "stream",
     "text": [
      "(1560,)\n"
     ]
    }
   ],
   "source": [
    "b1_lr_train = g.predict(a_train)\n",
    "\n",
    "b1_lr_train\n",
    "\n",
    "print(b1_lr_train.shape)"
   ]
  },
  {
   "cell_type": "code",
   "execution_count": 19,
   "id": "6fe098cf-4676-4ad1-be5f-1f439092de2e",
   "metadata": {},
   "outputs": [
    {
     "name": "stdout",
     "output_type": "stream",
     "text": [
      "(390,)\n"
     ]
    }
   ],
   "source": [
    "b1_lr_test = g.predict(a_test)\n",
    "b1_lr_test\n",
    "print(b1_lr_test.shape)"
   ]
  },
  {
   "cell_type": "code",
   "execution_count": 20,
   "id": "1f6bce52-35de-4be0-a68a-059ecb46a10b",
   "metadata": {},
   "outputs": [
    {
     "name": "stdout",
     "output_type": "stream",
     "text": [
      "              precision    recall  f1-score   support\n",
      "\n",
      "           1       0.82      0.80      0.81       498\n",
      "           2       0.85      0.84      0.84       542\n",
      "           3       0.80      0.83      0.81       520\n",
      "\n",
      "    accuracy                           0.82      1560\n",
      "   macro avg       0.82      0.82      0.82      1560\n",
      "weighted avg       0.82      0.82      0.82      1560\n",
      "\n"
     ]
    }
   ],
   "source": [
    "target_names = ['1', '2','3']\n",
    "\n",
    "print(classification_report(b_train,b1_lr_train,target_names=target_names))\n"
   ]
  },
  {
   "cell_type": "code",
   "execution_count": 21,
   "id": "4ec2294f-72a0-4787-a195-bdd4a33bab55",
   "metadata": {},
   "outputs": [
    {
     "name": "stdout",
     "output_type": "stream",
     "text": [
      "              precision    recall  f1-score   support\n",
      "\n",
      "           1       0.86      0.79      0.82       152\n",
      "           2       0.76      0.83      0.79       108\n",
      "           3       0.79      0.80      0.80       130\n",
      "\n",
      "    accuracy                           0.81       390\n",
      "   macro avg       0.80      0.81      0.80       390\n",
      "weighted avg       0.81      0.81      0.81       390\n",
      "\n"
     ]
    }
   ],
   "source": [
    "target_names = ['1', '2','3']\n",
    "\n",
    "print(classification_report(b_test,b1_lr_test,target_names=target_names))"
   ]
  },
  {
   "cell_type": "markdown",
   "id": "f4df2dfa-efe5-42b0-ad59-735f37f996e9",
   "metadata": {},
   "source": [
    "## Confusion Matrix"
   ]
  },
  {
   "cell_type": "code",
   "execution_count": 23,
   "id": "de19c8ff-736f-4724-a904-a8a0e5cc5a97",
   "metadata": {},
   "outputs": [
    {
     "data": {
      "text/plain": [
       "array([[399,  34,  65],\n",
       "       [ 43, 453,  46],\n",
       "       [ 43,  46, 431]], dtype=int64)"
      ]
     },
     "execution_count": 23,
     "metadata": {},
     "output_type": "execute_result"
    }
   ],
   "source": [
    "conf_mat = confusion_matrix(b_train,b1_lr_train)\n",
    "conf_mat"
   ]
  },
  {
   "cell_type": "code",
   "execution_count": 24,
   "id": "ffe6da6f-b411-42bd-bc03-2dc104d85c6a",
   "metadata": {},
   "outputs": [
    {
     "data": {
      "text/plain": [
       "array([[120,  16,  16],\n",
       "       [  7,  90,  11],\n",
       "       [ 13,  13, 104]], dtype=int64)"
      ]
     },
     "execution_count": 24,
     "metadata": {},
     "output_type": "execute_result"
    }
   ],
   "source": [
    "conf_mat = confusion_matrix(b_test,b1_lr_test)\n",
    "conf_mat"
   ]
  },
  {
   "cell_type": "markdown",
   "id": "9360a608-ea29-46c4-87a4-ce1acf75eed1",
   "metadata": {},
   "source": [
    "## Bias variance"
   ]
  },
  {
   "cell_type": "markdown",
   "id": "afe40ba0-9e36-44e8-bbe1-e42465ad6915",
   "metadata": {},
   "source": [
    "**the values are almost near less bias less variance or we could say the model is not accurate**\n",
    "\n"
   ]
  },
  {
   "cell_type": "code",
   "execution_count": null,
   "id": "e5d85813-f33a-4c78-b83f-d6c1787b7e7e",
   "metadata": {},
   "outputs": [],
   "source": []
  }
 ],
 "metadata": {
  "kernelspec": {
   "display_name": "Python 3 (ipykernel)",
   "language": "python",
   "name": "python3"
  },
  "language_info": {
   "codemirror_mode": {
    "name": "ipython",
    "version": 3
   },
   "file_extension": ".py",
   "mimetype": "text/x-python",
   "name": "python",
   "nbconvert_exporter": "python",
   "pygments_lexer": "ipython3",
   "version": "3.9.7"
  }
 },
 "nbformat": 4,
 "nbformat_minor": 5
}

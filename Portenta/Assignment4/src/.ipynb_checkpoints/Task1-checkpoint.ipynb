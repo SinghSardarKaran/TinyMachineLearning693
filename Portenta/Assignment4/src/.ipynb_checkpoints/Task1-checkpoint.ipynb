{
 "cells": [
  {
   "cell_type": "code",
   "execution_count": 1,
   "id": "46419fb3-0e39-4af4-815b-b9d39cb3c83d",
   "metadata": {},
   "outputs": [],
   "source": [
    "from skimage import io\n",
    "import numpy as np\n",
    "import os\n",
    "import pandas as pd\n",
    "import seaborn as sns"
   ]
  },
  {
   "cell_type": "code",
   "execution_count": 2,
   "id": "3e9ef169-fe22-4929-a9d9-b2b785a03a05",
   "metadata": {},
   "outputs": [],
   "source": [
    "import warnings\n",
    "warnings.filterwarnings('ignore')"
   ]
  },
  {
   "cell_type": "code",
   "execution_count": 3,
   "id": "e5191536-f682-4db7-9463-fe22231ae763",
   "metadata": {},
   "outputs": [],
   "source": [
    "folder = '../data/'\n",
    "images = [os.path.join(root, filename)\n",
    "          for root, dirs, files in os.walk(folder)\n",
    "          for filename in files\n",
    "          if filename.lower().endswith('.jpg')]\n",
    "\n",
    "ic = []\n",
    "for img in images:\n",
    "    ic.append(io.imread(img))"
   ]
  },
  {
   "cell_type": "code",
   "execution_count": 4,
   "id": "e0e19685-4213-49a5-9a4d-0a59ed24efd4",
   "metadata": {},
   "outputs": [],
   "source": [
    "a1 = []\n",
    "for i in range(len(ic)):\n",
    "    a1.append(ic[i][:,:,0].flatten())\n",
    "\n",
    "b1 = np.array([0]*50 + [1] * 50 + [2]*50)\n"
   ]
  },
  {
   "cell_type": "code",
   "execution_count": 5,
   "id": "b48a38e7-123f-47d1-aa1a-5265a063d539",
   "metadata": {},
   "outputs": [
    {
     "data": {
      "text/plain": [
       "(150, 76800)"
      ]
     },
     "execution_count": 5,
     "metadata": {},
     "output_type": "execute_result"
    }
   ],
   "source": [
    "a1 = np.array(a1)\n",
    "a1.shape"
   ]
  },
  {
   "cell_type": "code",
   "execution_count": 6,
   "id": "2973ba79-a94f-40c9-b36b-3ebe6cbb5ea5",
   "metadata": {},
   "outputs": [
    {
     "data": {
      "text/plain": [
       "array([0, 0, 0, 0, 0, 0, 0, 0, 0, 0, 0, 0, 0, 0, 0, 0, 0, 0, 0, 0, 0, 0,\n",
       "       0, 0, 0, 0, 0, 0, 0, 0, 0, 0, 0, 0, 0, 0, 0, 0, 0, 0, 0, 0, 0, 0,\n",
       "       0, 0, 0, 0, 0, 0, 1, 1, 1, 1, 1, 1, 1, 1, 1, 1, 1, 1, 1, 1, 1, 1,\n",
       "       1, 1, 1, 1, 1, 1, 1, 1, 1, 1, 1, 1, 1, 1, 1, 1, 1, 1, 1, 1, 1, 1,\n",
       "       1, 1, 1, 1, 1, 1, 1, 1, 1, 1, 1, 1, 2, 2, 2, 2, 2, 2, 2, 2, 2, 2,\n",
       "       2, 2, 2, 2, 2, 2, 2, 2, 2, 2, 2, 2, 2, 2, 2, 2, 2, 2, 2, 2, 2, 2,\n",
       "       2, 2, 2, 2, 2, 2, 2, 2, 2, 2, 2, 2, 2, 2, 2, 2, 2, 2])"
      ]
     },
     "execution_count": 6,
     "metadata": {},
     "output_type": "execute_result"
    }
   ],
   "source": [
    "b1"
   ]
  },
  {
   "cell_type": "code",
   "execution_count": 7,
   "id": "7cbd1cf8-9456-4b6d-a666-f9601bc0834c",
   "metadata": {},
   "outputs": [],
   "source": [
    "from sklearn.tree import DecisionTreeClassifier\n",
    "from sklearn.linear_model import LogisticRegression\n",
    "from sklearn.model_selection import train_test_split\n",
    "from sklearn.metrics import classification_report\n",
    "from sklearn.metrics import confusion_matrix\n",
    "from sklearn.ensemble import RandomForestClassifier\n",
    "import seaborn as sns\n",
    "import matplotlib.pyplot as plt\n",
    "\n",
    "import sys,os\n",
    "import pandas as pd\n",
    "import numpy as np"
   ]
  },
  {
   "cell_type": "markdown",
   "id": "e0b6da37-f95e-4ed7-92fd-4feb5150baab",
   "metadata": {},
   "source": [
    "## Logistic Regression"
   ]
  },
  {
   "cell_type": "code",
   "execution_count": 8,
   "id": "f5dbf906-6bb3-4ee1-8992-c1e1781b11d8",
   "metadata": {},
   "outputs": [
    {
     "name": "stdout",
     "output_type": "stream",
     "text": [
      "(120, 76800)\n",
      "(30, 76800)\n",
      "(120,)\n",
      "(30,)\n"
     ]
    }
   ],
   "source": [
    "a_train, a_test, b_train, b_test = train_test_split(a1,b1,train_size=0.8)\n",
    "print(a_train.shape)\n",
    "print(a_test.shape)\n",
    "print(b_train.shape)\n",
    "print(b_test.shape)"
   ]
  },
  {
   "cell_type": "code",
   "execution_count": 9,
   "id": "63630364-9ef8-48b7-87b1-5d1401f476a9",
   "metadata": {},
   "outputs": [
    {
     "data": {
      "text/plain": [
       "LogisticRegression(C=2, random_state=0)"
      ]
     },
     "execution_count": 9,
     "metadata": {},
     "output_type": "execute_result"
    }
   ],
   "source": [
    "import warnings\n",
    "warnings.filterwarnings(\"ignore\")\n",
    "g = LogisticRegression(C=2,random_state=0).fit(a1, b1)\n",
    "g"
   ]
  },
  {
   "cell_type": "code",
   "execution_count": 10,
   "id": "4439dc2c-7d8a-4bf8-8014-ede927f7c86a",
   "metadata": {},
   "outputs": [
    {
     "name": "stdout",
     "output_type": "stream",
     "text": [
      "(120,)\n"
     ]
    }
   ],
   "source": [
    "b1_lr_train = g.predict(a_train)\n",
    "\n",
    "b1_lr_train\n",
    "\n",
    "print(b1_lr_train.shape)\n"
   ]
  },
  {
   "cell_type": "code",
   "execution_count": 11,
   "id": "77326fdf-93cc-41c2-8f0b-e7dace7bd6a6",
   "metadata": {},
   "outputs": [
    {
     "name": "stdout",
     "output_type": "stream",
     "text": [
      "(30,)\n"
     ]
    }
   ],
   "source": [
    "b1_lr_test = g.predict(a_test)\n",
    "b1_lr_test\n",
    "print(b1_lr_test.shape)"
   ]
  },
  {
   "cell_type": "code",
   "execution_count": 12,
   "id": "fba50a7a-2978-43b4-a5af-5cd757c7c336",
   "metadata": {},
   "outputs": [
    {
     "name": "stdout",
     "output_type": "stream",
     "text": [
      "              precision    recall  f1-score   support\n",
      "\n",
      "           1       1.00      1.00      1.00        40\n",
      "           2       1.00      1.00      1.00        41\n",
      "           3       1.00      1.00      1.00        39\n",
      "\n",
      "    accuracy                           1.00       120\n",
      "   macro avg       1.00      1.00      1.00       120\n",
      "weighted avg       1.00      1.00      1.00       120\n",
      "\n"
     ]
    }
   ],
   "source": [
    "target_names = ['1', '2','3']\n",
    "\n",
    "print(classification_report(b_train,b1_lr_train,target_names=target_names))\n"
   ]
  },
  {
   "cell_type": "code",
   "execution_count": 13,
   "id": "e4ed7254-bd71-424c-86a8-49357a21c3a9",
   "metadata": {},
   "outputs": [
    {
     "name": "stdout",
     "output_type": "stream",
     "text": [
      "              precision    recall  f1-score   support\n",
      "\n",
      "           1       1.00      1.00      1.00        10\n",
      "           2       1.00      1.00      1.00         9\n",
      "           3       1.00      1.00      1.00        11\n",
      "\n",
      "    accuracy                           1.00        30\n",
      "   macro avg       1.00      1.00      1.00        30\n",
      "weighted avg       1.00      1.00      1.00        30\n",
      "\n"
     ]
    }
   ],
   "source": [
    "target_names = ['1', '2','3']\n",
    "\n",
    "print(classification_report(b_test,b1_lr_test,target_names=target_names))"
   ]
  },
  {
   "cell_type": "markdown",
   "id": "1724a107-1eb3-4cf7-bd93-522524ed67fd",
   "metadata": {},
   "source": [
    "## confusion matrix"
   ]
  },
  {
   "cell_type": "code",
   "execution_count": 14,
   "id": "11b9bfb1-481b-4dd4-9a72-0ac4ff18c55a",
   "metadata": {},
   "outputs": [],
   "source": [
    "conf_mat = confusion_matrix(b_train,b1_lr_train)\n",
    "class_label = ['1','2','3']\n"
   ]
  },
  {
   "cell_type": "code",
   "execution_count": 15,
   "id": "935456aa-9930-404d-a768-810c6439eb0e",
   "metadata": {},
   "outputs": [
    {
     "data": {
      "image/png": "[encoded data removed]",
      "text/plain": [
       "<Figure size 432x288 with 2 Axes>"
      ]
     },
     "metadata": {
      "needs_background": "light"
     },
     "output_type": "display_data"
    }
   ],
   "source": [
    "df = pd.DataFrame(conf_mat, index = class_label, columns = class_label)\n",
    "sns.heatmap(df, annot = True,fmt=\"d\")\n",
    "\n",
    "plt.show()"
   ]
  },
  {
   "cell_type": "code",
   "execution_count": 16,
   "id": "d918d597-2955-4c18-b354-e68eb05256b3",
   "metadata": {},
   "outputs": [],
   "source": [
    "conf_mat = confusion_matrix(b_test,b1_lr_test)\n",
    "class_label = ['1','2','3']\n",
    "df = pd.DataFrame(conf_mat, index = class_label, columns = class_label)"
   ]
  },
  {
   "cell_type": "code",
   "execution_count": 17,
   "id": "fb954c83-0855-4458-b3dd-7b6ed136fd75",
   "metadata": {},
   "outputs": [
    {
     "data": {
      "image/png": "[encoded data removed]",
      "text/plain": [
       "<Figure size 432x288 with 2 Axes>"
      ]
     },
     "metadata": {
      "needs_background": "light"
     },
     "output_type": "display_data"
    }
   ],
   "source": [
    "df = pd.DataFrame(conf_mat, index = class_label, columns = class_label)\n",
    "sns.heatmap(df, annot = True,fmt=\"d\")\n",
    "\n",
    "plt.show()"
   ]
  },
  {
   "cell_type": "markdown",
   "id": "9d99bead-f7e0-4504-beaa-5f4b5fc3d177",
   "metadata": {},
   "source": [
    "## decision trees "
   ]
  },
  {
   "cell_type": "code",
   "execution_count": 18,
   "id": "72df2729-ec19-4e55-a447-36b5666911ce",
   "metadata": {},
   "outputs": [
    {
     "data": {
      "text/plain": [
       "DecisionTreeClassifier()"
      ]
     },
     "execution_count": 18,
     "metadata": {},
     "output_type": "execute_result"
    }
   ],
   "source": [
    "dtc = DecisionTreeClassifier()\n",
    "dtc.fit(a_train,b_train)"
   ]
  },
  {
   "cell_type": "code",
   "execution_count": 19,
   "id": "6b54054a-a03b-4f6c-a894-0269b4855689",
   "metadata": {},
   "outputs": [
    {
     "data": {
      "text/plain": [
       "array([1, 0, 0, 1, 0, 0, 1, 2, 1, 2, 2, 0, 0, 1, 1, 0, 0, 1, 2, 2, 0, 1,\n",
       "       2, 0, 2, 2, 0, 1, 1, 1])"
      ]
     },
     "execution_count": 19,
     "metadata": {},
     "output_type": "execute_result"
    }
   ],
   "source": [
    "b1_test_dt = dtc.predict(a_test)\n",
    "b1_test_dt"
   ]
  },
  {
   "cell_type": "code",
   "execution_count": 20,
   "id": "f489a269-92c2-4238-a163-0c5a88dcd5ae",
   "metadata": {},
   "outputs": [
    {
     "data": {
      "text/plain": [
       "array([1, 2, 1, 2, 2, 2, 2, 2, 1, 0, 0, 1, 0, 2, 0, 1, 2, 0, 0, 0, 0, 0,\n",
       "       0, 1, 1, 1, 0, 1, 0, 2, 1, 2, 2, 2, 2, 2, 0, 0, 2, 1, 1, 1, 0, 0,\n",
       "       0, 2, 1, 2, 2, 2, 0, 0, 2, 2, 0, 0, 0, 1, 0, 2, 2, 0, 0, 2, 1, 1,\n",
       "       2, 1, 1, 0, 2, 1, 2, 1, 1, 0, 1, 1, 0, 0, 0, 0, 0, 2, 2, 1, 1, 1,\n",
       "       0, 1, 2, 1, 0, 1, 0, 1, 2, 2, 2, 0, 2, 1, 1, 0, 1, 1, 1, 2, 2, 1,\n",
       "       1, 1, 0, 1, 0, 2, 1, 2, 0, 2])"
      ]
     },
     "execution_count": 20,
     "metadata": {},
     "output_type": "execute_result"
    }
   ],
   "source": [
    "b1_train_dt = dtc.predict(a_train)\n",
    "b1_train_dt"
   ]
  },
  {
   "cell_type": "code",
   "execution_count": 21,
   "id": "7309d9be-c1f3-4b29-b314-a556703348e7",
   "metadata": {},
   "outputs": [
    {
     "name": "stdout",
     "output_type": "stream",
     "text": [
      "              precision    recall  f1-score   support\n",
      "\n",
      "           1       0.45      0.50      0.48        10\n",
      "           2       0.45      0.56      0.50         9\n",
      "           3       0.75      0.55      0.63        11\n",
      "\n",
      "    accuracy                           0.53        30\n",
      "   macro avg       0.55      0.53      0.54        30\n",
      "weighted avg       0.56      0.53      0.54        30\n",
      "\n"
     ]
    }
   ],
   "source": [
    "target_names = ['1', '2','3']\n",
    "\n",
    "print(classification_report(b_test,b1_test_dt,target_names=target_names))"
   ]
  },
  {
   "cell_type": "code",
   "execution_count": 22,
   "id": "869ed87f-88aa-407d-8a92-5cf5387b9b8a",
   "metadata": {},
   "outputs": [
    {
     "name": "stdout",
     "output_type": "stream",
     "text": [
      "              precision    recall  f1-score   support\n",
      "\n",
      "           1       1.00      1.00      1.00        40\n",
      "           2       1.00      1.00      1.00        41\n",
      "           3       1.00      1.00      1.00        39\n",
      "\n",
      "    accuracy                           1.00       120\n",
      "   macro avg       1.00      1.00      1.00       120\n",
      "weighted avg       1.00      1.00      1.00       120\n",
      "\n"
     ]
    }
   ],
   "source": [
    "target_names = ['1', '2','3']\n",
    "\n",
    "print(classification_report(b_train,b1_train_dt,target_names=target_names))"
   ]
  },
  {
   "cell_type": "code",
   "execution_count": 23,
   "id": "f3305755-8a35-479b-b93a-4820c181d5ec",
   "metadata": {},
   "outputs": [],
   "source": [
    "conf_mat = confusion_matrix(b_train,b1_train_dt)\n",
    "class_label = ['1','2','3']\n"
   ]
  },
  {
   "cell_type": "code",
   "execution_count": 24,
   "id": "c7e342bd-4235-4295-a7fc-b7ed82687474",
   "metadata": {},
   "outputs": [
    {
     "data": {
      "image/png": "[encoded data removed]",
      "text/plain": [
       "<Figure size 432x288 with 2 Axes>"
      ]
     },
     "metadata": {
      "needs_background": "light"
     },
     "output_type": "display_data"
    }
   ],
   "source": [
    "df = pd.DataFrame(conf_mat, index = class_label, columns = class_label)\n",
    "sns.heatmap(df, annot = True,fmt=\"d\")\n",
    "\n",
    "plt.show()"
   ]
  },
  {
   "cell_type": "code",
   "execution_count": 25,
   "id": "1cb37c6f-6405-4d7e-ace0-1124c90d184d",
   "metadata": {},
   "outputs": [],
   "source": [
    "conf_mat = confusion_matrix(b_test,b1_test_dt)\n",
    "class_label = ['1','2','3']\n"
   ]
  },
  {
   "cell_type": "code",
   "execution_count": 26,
   "id": "168c551f-795e-42e0-866f-81b083fdd82a",
   "metadata": {},
   "outputs": [
    {
     "data": {
      "image/png": "[encoded data removed]",
      "text/plain": [
       "<Figure size 432x288 with 2 Axes>"
      ]
     },
     "metadata": {
      "needs_background": "light"
     },
     "output_type": "display_data"
    }
   ],
   "source": [
    "df = pd.DataFrame(conf_mat, index = class_label, columns = class_label)\n",
    "sns.heatmap(df, annot = True,fmt=\"d\")\n",
    "\n",
    "plt.show()"
   ]
  },
  {
   "cell_type": "markdown",
   "id": "34659c3e-0361-4db5-9959-0522aa8767c5",
   "metadata": {},
   "source": [
    "## Random forest classifier\n"
   ]
  },
  {
   "cell_type": "code",
   "execution_count": 27,
   "id": "b5227a2d-8b82-41ee-9fed-0fc7f323799e",
   "metadata": {},
   "outputs": [
    {
     "data": {
      "text/plain": [
       "RandomForestClassifier(max_depth=2)"
      ]
     },
     "execution_count": 27,
     "metadata": {},
     "output_type": "execute_result"
    }
   ],
   "source": [
    "rfm = RandomForestClassifier(max_depth=2)\n",
    "rfm.fit(a_train,b_train)"
   ]
  },
  {
   "cell_type": "code",
   "execution_count": 28,
   "id": "e1b2b9f7-e87f-41e7-b2a8-894b80974446",
   "metadata": {},
   "outputs": [
    {
     "data": {
      "text/plain": [
       "array([1, 0, 0, 1, 0, 0, 2, 0, 1, 0, 2, 0, 0, 0, 1, 1, 2, 1, 2, 2, 0, 0,\n",
       "       1, 0, 2, 1, 0, 1, 1, 1])"
      ]
     },
     "execution_count": 28,
     "metadata": {},
     "output_type": "execute_result"
    }
   ],
   "source": [
    "b1_test_rf = rfm.predict(a_test)\n",
    "b1_test_rf"
   ]
  },
  {
   "cell_type": "code",
   "execution_count": 29,
   "id": "68cbbaa7-ba5d-45d5-b5c7-ef277bdadee9",
   "metadata": {},
   "outputs": [
    {
     "data": {
      "text/plain": [
       "array([1, 2, 1, 1, 2, 2, 2, 2, 1, 0, 0, 1, 0, 2, 0, 1, 2, 0, 0, 0, 0, 0,\n",
       "       0, 1, 1, 1, 0, 1, 0, 2, 1, 2, 2, 2, 2, 2, 0, 0, 2, 1, 1, 1, 0, 0,\n",
       "       1, 2, 1, 2, 2, 2, 0, 0, 1, 2, 0, 0, 2, 1, 1, 1, 2, 1, 0, 2, 1, 1,\n",
       "       2, 1, 1, 0, 2, 1, 1, 1, 1, 2, 1, 1, 0, 0, 0, 0, 0, 2, 2, 1, 1, 1,\n",
       "       0, 1, 2, 1, 1, 1, 0, 1, 2, 1, 2, 0, 2, 1, 1, 1, 1, 1, 1, 2, 2, 1,\n",
       "       1, 1, 0, 1, 0, 2, 1, 2, 0, 2])"
      ]
     },
     "execution_count": 29,
     "metadata": {},
     "output_type": "execute_result"
    }
   ],
   "source": [
    "b1_train_rf = rfm.predict(a_train)\n",
    "b1_train_rf"
   ]
  },
  {
   "cell_type": "code",
   "execution_count": 30,
   "id": "7147a0dd-8ad0-4cac-b879-d424bce13294",
   "metadata": {},
   "outputs": [
    {
     "name": "stdout",
     "output_type": "stream",
     "text": [
      "              precision    recall  f1-score   support\n",
      "\n",
      "           1       1.00      0.82      0.90        40\n",
      "           2       0.80      1.00      0.89        41\n",
      "           3       0.94      0.87      0.91        39\n",
      "\n",
      "    accuracy                           0.90       120\n",
      "   macro avg       0.92      0.90      0.90       120\n",
      "weighted avg       0.91      0.90      0.90       120\n",
      "\n"
     ]
    }
   ],
   "source": [
    "print(classification_report(b_train,b1_train_rf,target_names=target_names))\n"
   ]
  },
  {
   "cell_type": "code",
   "execution_count": 31,
   "id": "ac475f74-5c79-463c-9730-efdea2174b59",
   "metadata": {},
   "outputs": [
    {
     "name": "stdout",
     "output_type": "stream",
     "text": [
      "              precision    recall  f1-score   support\n",
      "\n",
      "           1       0.54      0.70      0.61        10\n",
      "           2       0.36      0.44      0.40         9\n",
      "           3       0.67      0.36      0.47        11\n",
      "\n",
      "    accuracy                           0.50        30\n",
      "   macro avg       0.52      0.50      0.49        30\n",
      "weighted avg       0.53      0.50      0.50        30\n",
      "\n"
     ]
    }
   ],
   "source": [
    "print(classification_report(b_test,b1_test_rf,target_names=target_names))\n"
   ]
  },
  {
   "cell_type": "markdown",
   "id": "ad276ee3-ebc4-4f14-9547-7433cc5c19fa",
   "metadata": {},
   "source": [
    "# Confusion Matrix\n"
   ]
  },
  {
   "cell_type": "code",
   "execution_count": 32,
   "id": "f8ec61ef-400e-4570-9d9c-842c1bff8796",
   "metadata": {},
   "outputs": [
    {
     "data": {
      "image/png": "[encoded data removed]",
      "text/plain": [
       "<Figure size 432x288 with 2 Axes>"
      ]
     },
     "metadata": {
      "needs_background": "light"
     },
     "output_type": "display_data"
    }
   ],
   "source": [
    "conf_mat = confusion_matrix(b_train,b1_train_rf)\n",
    "class_label = ['1','2','3']\n",
    "df = pd.DataFrame(conf_mat, index = class_label, columns = class_label)\n",
    "sns.heatmap(df, annot = True,fmt=\"d\")\n",
    "plt.title(\"   images\")\n",
    "plt.xlabel(\"Pred Label\")\n",
    "plt.ylabel(\"T Label\")\n",
    "plt.show()"
   ]
  },
  {
   "cell_type": "code",
   "execution_count": 33,
   "id": "baf98419-0576-40f7-8fc2-b91b68d81c06",
   "metadata": {},
   "outputs": [],
   "source": [
    "conf_mat = confusion_matrix(b_test,b1_test_rf)\n",
    "class_label = ['1','2','3']\n",
    "df = pd.DataFrame(conf_mat, index = class_label, columns = class_label)"
   ]
  },
  {
   "cell_type": "code",
   "execution_count": 34,
   "id": "331dc53a-0a0d-4ac0-8c84-434e7a158a9c",
   "metadata": {},
   "outputs": [
    {
     "data": {
      "image/png": "[encoded data removed]",
      "text/plain": [
       "<Figure size 432x288 with 2 Axes>"
      ]
     },
     "metadata": {
      "needs_background": "light"
     },
     "output_type": "display_data"
    }
   ],
   "source": [
    "\n",
    "sns.heatmap(df, annot = True,fmt=\"d\")\n",
    "plt.title(\"images\")\n",
    "plt.xlabel(\"Pred Label\")\n",
    "plt.ylabel(\"T Label\")\n",
    "plt.show()"
   ]
  },
  {
   "cell_type": "markdown",
   "id": "60033de1-c422-4b6b-9b50-e84686f5a96a",
   "metadata": {},
   "source": [
    "## Task 2 "
   ]
  },
  {
   "cell_type": "code",
   "execution_count": 35,
   "id": "b6671042-a805-4fa5-832c-b8aa6b374697",
   "metadata": {},
   "outputs": [],
   "source": [
    "import os\n",
    "MODELS_DIR = 'models/'\n",
    "if not os.path.exists(MODELS_DIR):\n",
    "    os.mkdir(MODELS_DIR)\n",
    "MODEL_TF = MODELS_DIR + 'model'\n",
    "MODEL_NO_QUANT_TFLITE = MODELS_DIR + 'model_no_quant.tflite'\n",
    "MODEL_TFLITE = MODELS_DIR + 'model.tflite'\n",
    "MODEL_TFLITE_MICRO = MODELS_DIR + 'model.cc'\n",
    "import tensorflow as tf\n",
    "##!pip install tensorflow\n",
    "import tensorflow as tenf\n",
    "from tensorflow import keras\n",
    "import numpy as np\n",
    "import pandas as pd\n",
    "import matplotlib.pyplot as plt\n",
    "import math\n",
    "seed = 1\n",
    "np.random.seed(seed)\n",
    "tf.random.set_seed(seed)\n"
   ]
  },
  {
   "cell_type": "code",
   "execution_count": 36,
   "id": "af48b28e-3884-402c-a11e-eb92f9adf678",
   "metadata": {},
   "outputs": [],
   "source": [
    "b1_train = b_train.reshape(len(b_train), 1)\n"
   ]
  },
  {
   "cell_type": "code",
   "execution_count": 37,
   "id": "a0d145d8-b68b-45c9-9665-511ba1af3dfd",
   "metadata": {},
   "outputs": [
    {
     "data": {
      "text/plain": [
       "(120, 1)"
      ]
     },
     "execution_count": 37,
     "metadata": {},
     "output_type": "execute_result"
    }
   ],
   "source": [
    "b1_train.shape"
   ]
  },
  {
   "cell_type": "code",
   "execution_count": 38,
   "id": "e4a85b32-76a4-4e69-879d-80015246a66d",
   "metadata": {},
   "outputs": [],
   "source": [
    "b1_test = b_test.reshape(len(b_test), 1)"
   ]
  },
  {
   "cell_type": "code",
   "execution_count": 39,
   "id": "8a7e5b98-0645-4d09-9400-50344b0e9348",
   "metadata": {},
   "outputs": [
    {
     "data": {
      "text/plain": [
       "(30, 1)"
      ]
     },
     "execution_count": 39,
     "metadata": {},
     "output_type": "execute_result"
    }
   ],
   "source": [
    "b1_test.shape"
   ]
  },
  {
   "cell_type": "code",
   "execution_count": 40,
   "id": "6019250d-bbcb-4dfd-9730-7584cf8a5e57",
   "metadata": {},
   "outputs": [
    {
     "name": "stdout",
     "output_type": "stream",
     "text": [
      "Model: \"sequential\"\n",
      "_________________________________________________________________\n",
      " Layer (type)                Output Shape              Param #   \n",
      "=================================================================\n",
      " dense (Dense)               (None, 128)               9830528   \n",
      "                                                                 \n",
      " dense_1 (Dense)             (None, 3)                 387       \n",
      "                                                                 \n",
      "=================================================================\n",
      "Total params: 9,830,915\n",
      "Trainable params: 9,830,915\n",
      "Non-trainable params: 0\n",
      "_________________________________________________________________\n",
      "None\n"
     ]
    }
   ],
   "source": [
    "M1 = tenf.keras.Sequential()\n",
    "M1.add(keras.layers.Dense(128, activation ='relu' ,input_shape=(a_train.shape[1],)))\n",
    "M1.add(keras.layers.Dense(3, activation='softmax'))\n",
    "M1.compile(loss=tf.keras.losses.sparse_categorical_crossentropy,\n",
    "              optimizer=tf.keras.optimizers.Adam(),\n",
    "              metrics=['accuracy'])\n",
    "print(M1.summary())"
   ]
  },
  {
   "cell_type": "code",
   "execution_count": null,
   "id": "6bfb2e62-8943-4c5b-bd44-a4e506af045b",
   "metadata": {},
   "outputs": [],
   "source": []
  },
  {
   "cell_type": "code",
   "execution_count": null,
   "id": "4cf39dc8-d650-45be-add1-0b8946aafec7",
   "metadata": {},
   "outputs": [],
   "source": []
  },
  {
   "cell_type": "code",
   "execution_count": null,
   "id": "028601cd-32eb-4c09-9622-7540cecd8c1b",
   "metadata": {},
   "outputs": [],
   "source": []
  },
  {
   "cell_type": "code",
   "execution_count": 41,
   "id": "1910643b-9e09-4d6d-a351-7475407b5ed7",
   "metadata": {},
   "outputs": [
    {
     "name": "stdout",
     "output_type": "stream",
     "text": [
      "Model: \"sequential\"\n",
      "_________________________________________________________________\n",
      " Layer (type)                Output Shape              Param #   \n",
      "=================================================================\n",
      " dense (Dense)               (None, 128)               9830528   \n",
      "                                                                 \n",
      " dense_1 (Dense)             (None, 3)                 387       \n",
      "                                                                 \n",
      "=================================================================\n",
      "Total params: 9,830,915\n",
      "Trainable params: 9,830,915\n",
      "Non-trainable params: 0\n",
      "_________________________________________________________________\n",
      "None\n"
     ]
    }
   ],
   "source": [
    "print(M1.summary())"
   ]
  },
  {
   "cell_type": "code",
   "execution_count": 42,
   "id": "005b8120-8739-4158-95be-4a1d8845f5c4",
   "metadata": {},
   "outputs": [
    {
     "name": "stdout",
     "output_type": "stream",
     "text": [
      "Epoch 1/150\n",
      "3/3 [==============================] - 1s 79ms/step - loss: 13562.5791 - accuracy: 0.4667\n",
      "Epoch 2/150\n",
      "3/3 [==============================] - 0s 79ms/step - loss: 13292.7520 - accuracy: 0.3750\n",
      "Epoch 3/150\n",
      "3/3 [==============================] - 0s 80ms/step - loss: 7677.6284 - accuracy: 0.3833\n",
      "Epoch 4/150\n",
      "3/3 [==============================] - 0s 87ms/step - loss: 6085.3667 - accuracy: 0.4250\n",
      "Epoch 5/150\n",
      "3/3 [==============================] - 0s 80ms/step - loss: 2557.9011 - accuracy: 0.5000\n",
      "Epoch 6/150\n",
      "3/3 [==============================] - 0s 81ms/step - loss: 2331.7458 - accuracy: 0.4500\n",
      "Epoch 7/150\n",
      "3/3 [==============================] - 0s 76ms/step - loss: 2039.6655 - accuracy: 0.5000\n",
      "Epoch 8/150\n",
      "3/3 [==============================] - 0s 79ms/step - loss: 739.2128 - accuracy: 0.5917\n",
      "Epoch 9/150\n",
      "3/3 [==============================] - 0s 85ms/step - loss: 852.5690 - accuracy: 0.5083\n",
      "Epoch 10/150\n",
      "3/3 [==============================] - 0s 83ms/step - loss: 553.0456 - accuracy: 0.5500\n",
      "Epoch 11/150\n",
      "3/3 [==============================] - 0s 76ms/step - loss: 417.9358 - accuracy: 0.6167\n",
      "Epoch 12/150\n",
      "3/3 [==============================] - 0s 83ms/step - loss: 590.5632 - accuracy: 0.5333\n",
      "Epoch 13/150\n",
      "3/3 [==============================] - 0s 75ms/step - loss: 339.4725 - accuracy: 0.7083\n",
      "Epoch 14/150\n",
      "3/3 [==============================] - 0s 83ms/step - loss: 447.9965 - accuracy: 0.6833\n",
      "Epoch 15/150\n",
      "3/3 [==============================] - 0s 80ms/step - loss: 374.2867 - accuracy: 0.6167\n",
      "Epoch 16/150\n",
      "3/3 [==============================] - 0s 78ms/step - loss: 292.0375 - accuracy: 0.7083\n",
      "Epoch 17/150\n",
      "3/3 [==============================] - 0s 85ms/step - loss: 183.5412 - accuracy: 0.7917\n",
      "Epoch 18/150\n",
      "3/3 [==============================] - 0s 94ms/step - loss: 256.9809 - accuracy: 0.6833\n",
      "Epoch 19/150\n",
      "3/3 [==============================] - 0s 87ms/step - loss: 214.0620 - accuracy: 0.6667\n",
      "Epoch 20/150\n",
      "3/3 [==============================] - 0s 87ms/step - loss: 176.9915 - accuracy: 0.7417\n",
      "Epoch 21/150\n",
      "3/3 [==============================] - 0s 81ms/step - loss: 145.8867 - accuracy: 0.7417\n",
      "Epoch 22/150\n",
      "3/3 [==============================] - 0s 90ms/step - loss: 106.4764 - accuracy: 0.8000\n",
      "Epoch 23/150\n",
      "3/3 [==============================] - 0s 90ms/step - loss: 70.8445 - accuracy: 0.7750\n",
      "Epoch 24/150\n",
      "3/3 [==============================] - 0s 92ms/step - loss: 45.6585 - accuracy: 0.8750\n",
      "Epoch 25/150\n",
      "3/3 [==============================] - 0s 87ms/step - loss: 48.3814 - accuracy: 0.8417\n",
      "Epoch 26/150\n",
      "3/3 [==============================] - 0s 89ms/step - loss: 37.4717 - accuracy: 0.8750\n",
      "Epoch 27/150\n",
      "3/3 [==============================] - 0s 94ms/step - loss: 26.4941 - accuracy: 0.8750\n",
      "Epoch 28/150\n",
      "3/3 [==============================] - 0s 92ms/step - loss: 12.0378 - accuracy: 0.9167\n",
      "Epoch 29/150\n",
      "3/3 [==============================] - 0s 90ms/step - loss: 19.5356 - accuracy: 0.9333\n",
      "Epoch 30/150\n",
      "3/3 [==============================] - 0s 81ms/step - loss: 7.6132 - accuracy: 0.9583\n",
      "Epoch 31/150\n",
      "3/3 [==============================] - 0s 78ms/step - loss: 1.4654 - accuracy: 0.9667\n",
      "Epoch 32/150\n",
      "3/3 [==============================] - 0s 77ms/step - loss: 6.4049 - accuracy: 0.9500\n",
      "Epoch 33/150\n",
      "3/3 [==============================] - 0s 86ms/step - loss: 3.1813 - accuracy: 0.9833\n",
      "Epoch 34/150\n",
      "3/3 [==============================] - 0s 80ms/step - loss: 4.5808 - accuracy: 0.9583\n",
      "Epoch 35/150\n",
      "3/3 [==============================] - 0s 81ms/step - loss: 6.3160 - accuracy: 0.9833\n",
      "Epoch 36/150\n",
      "3/3 [==============================] - 0s 81ms/step - loss: 0.0000e+00 - accuracy: 1.0000\n",
      "Epoch 37/150\n",
      "3/3 [==============================] - 0s 80ms/step - loss: 1.9141 - accuracy: 0.9750\n",
      "Epoch 38/150\n",
      "3/3 [==============================] - 0s 83ms/step - loss: 0.0000e+00 - accuracy: 1.0000\n",
      "Epoch 39/150\n",
      "3/3 [==============================] - 0s 83ms/step - loss: 0.0000e+00 - accuracy: 1.0000\n",
      "Epoch 40/150\n",
      "3/3 [==============================] - 0s 81ms/step - loss: 0.6483 - accuracy: 0.9917\n",
      "Epoch 41/150\n",
      "3/3 [==============================] - 0s 87ms/step - loss: 0.0000e+00 - accuracy: 1.0000\n",
      "Epoch 42/150\n",
      "3/3 [==============================] - 0s 79ms/step - loss: 0.0000e+00 - accuracy: 1.0000\n",
      "Epoch 43/150\n",
      "3/3 [==============================] - 0s 82ms/step - loss: 0.0000e+00 - accuracy: 1.0000\n",
      "Epoch 44/150\n",
      "3/3 [==============================] - 0s 75ms/step - loss: 0.0000e+00 - accuracy: 1.0000\n",
      "Epoch 45/150\n",
      "3/3 [==============================] - 0s 78ms/step - loss: 2.2130e-06 - accuracy: 1.0000\n",
      "Epoch 46/150\n",
      "3/3 [==============================] - 0s 79ms/step - loss: 0.1314 - accuracy: 0.9917\n",
      "Epoch 47/150\n",
      "3/3 [==============================] - 0s 83ms/step - loss: 1.7833 - accuracy: 0.9833\n",
      "Epoch 48/150\n",
      "3/3 [==============================] - 0s 81ms/step - loss: 0.8995 - accuracy: 0.9917\n",
      "Epoch 49/150\n",
      "3/3 [==============================] - 0s 85ms/step - loss: 0.4452 - accuracy: 0.9917\n",
      "Epoch 50/150\n",
      "3/3 [==============================] - 0s 83ms/step - loss: 4.2130 - accuracy: 0.9917\n",
      "Epoch 51/150\n",
      "3/3 [==============================] - 0s 91ms/step - loss: 0.4452 - accuracy: 0.9917\n",
      "Epoch 52/150\n",
      "3/3 [==============================] - 0s 96ms/step - loss: 0.7787 - accuracy: 0.9917\n",
      "Epoch 53/150\n",
      "3/3 [==============================] - 0s 95ms/step - loss: 0.0000e+00 - accuracy: 1.0000\n",
      "Epoch 54/150\n",
      "3/3 [==============================] - 0s 86ms/step - loss: 0.0000e+00 - accuracy: 1.0000\n",
      "Epoch 55/150\n",
      "3/3 [==============================] - 0s 87ms/step - loss: 0.1019 - accuracy: 0.9917\n",
      "Epoch 56/150\n",
      "3/3 [==============================] - 0s 86ms/step - loss: 0.0000e+00 - accuracy: 1.0000\n",
      "Epoch 57/150\n",
      "3/3 [==============================] - 0s 82ms/step - loss: 8.3389e-04 - accuracy: 1.0000\n",
      "Epoch 58/150\n",
      "3/3 [==============================] - 0s 79ms/step - loss: 0.0000e+00 - accuracy: 1.0000\n",
      "Epoch 59/150\n",
      "3/3 [==============================] - 0s 81ms/step - loss: 0.0000e+00 - accuracy: 1.0000\n",
      "Epoch 60/150\n",
      "3/3 [==============================] - 0s 83ms/step - loss: 0.0000e+00 - accuracy: 1.0000\n",
      "Epoch 61/150\n",
      "3/3 [==============================] - 0s 79ms/step - loss: 0.0000e+00 - accuracy: 1.0000\n",
      "Epoch 62/150\n",
      "3/3 [==============================] - 0s 106ms/step - loss: 0.0000e+00 - accuracy: 1.0000\n",
      "Epoch 63/150\n",
      "3/3 [==============================] - 0s 90ms/step - loss: 0.0000e+00 - accuracy: 1.0000\n",
      "Epoch 64/150\n",
      "3/3 [==============================] - 0s 86ms/step - loss: 8.6426e-08 - accuracy: 1.0000\n",
      "Epoch 65/150\n",
      "3/3 [==============================] - 0s 92ms/step - loss: 0.0034 - accuracy: 1.0000\n",
      "Epoch 66/150\n",
      "3/3 [==============================] - 0s 95ms/step - loss: 0.0000e+00 - accuracy: 1.0000\n",
      "Epoch 67/150\n",
      "3/3 [==============================] - 0s 83ms/step - loss: 0.0000e+00 - accuracy: 1.0000\n",
      "Epoch 68/150\n",
      "3/3 [==============================] - 0s 84ms/step - loss: 0.0000e+00 - accuracy: 1.0000\n",
      "Epoch 69/150\n",
      "3/3 [==============================] - 0s 86ms/step - loss: 0.0000e+00 - accuracy: 1.0000\n",
      "Epoch 70/150\n",
      "3/3 [==============================] - 0s 83ms/step - loss: 0.0000e+00 - accuracy: 1.0000\n",
      "Epoch 71/150\n",
      "3/3 [==============================] - 0s 84ms/step - loss: 0.0000e+00 - accuracy: 1.0000\n",
      "Epoch 72/150\n",
      "3/3 [==============================] - 0s 83ms/step - loss: 0.0000e+00 - accuracy: 1.0000\n",
      "Epoch 73/150\n",
      "3/3 [==============================] - 0s 78ms/step - loss: 0.0000e+00 - accuracy: 1.0000\n",
      "Epoch 74/150\n",
      "3/3 [==============================] - 0s 83ms/step - loss: 0.0000e+00 - accuracy: 1.0000\n",
      "Epoch 75/150\n",
      "3/3 [==============================] - 0s 83ms/step - loss: 0.0000e+00 - accuracy: 1.0000\n",
      "Epoch 76/150\n",
      "3/3 [==============================] - 0s 84ms/step - loss: 0.0000e+00 - accuracy: 1.0000\n",
      "Epoch 77/150\n",
      "3/3 [==============================] - 0s 84ms/step - loss: 0.0000e+00 - accuracy: 1.0000\n",
      "Epoch 78/150\n",
      "3/3 [==============================] - 0s 83ms/step - loss: 0.0000e+00 - accuracy: 1.0000\n",
      "Epoch 79/150\n",
      "3/3 [==============================] - 0s 82ms/step - loss: 0.0000e+00 - accuracy: 1.0000\n",
      "Epoch 80/150\n",
      "3/3 [==============================] - 0s 82ms/step - loss: 0.0000e+00 - accuracy: 1.0000\n",
      "Epoch 81/150\n",
      "3/3 [==============================] - 0s 79ms/step - loss: 0.0000e+00 - accuracy: 1.0000\n",
      "Epoch 82/150\n",
      "3/3 [==============================] - 0s 80ms/step - loss: 0.0000e+00 - accuracy: 1.0000\n",
      "Epoch 83/150\n",
      "3/3 [==============================] - 0s 79ms/step - loss: 0.0000e+00 - accuracy: 1.0000\n",
      "Epoch 84/150\n",
      "3/3 [==============================] - 0s 83ms/step - loss: 0.0000e+00 - accuracy: 1.0000\n",
      "Epoch 85/150\n",
      "3/3 [==============================] - 0s 81ms/step - loss: 0.0000e+00 - accuracy: 1.0000\n",
      "Epoch 86/150\n",
      "3/3 [==============================] - 0s 81ms/step - loss: 0.0000e+00 - accuracy: 1.0000\n",
      "Epoch 87/150\n",
      "3/3 [==============================] - 0s 83ms/step - loss: 0.0000e+00 - accuracy: 1.0000\n",
      "Epoch 88/150\n",
      "3/3 [==============================] - 0s 85ms/step - loss: 0.0000e+00 - accuracy: 1.0000\n",
      "Epoch 89/150\n",
      "3/3 [==============================] - 0s 84ms/step - loss: 0.0000e+00 - accuracy: 1.0000\n",
      "Epoch 90/150\n",
      "3/3 [==============================] - 0s 84ms/step - loss: 0.0000e+00 - accuracy: 1.0000\n",
      "Epoch 91/150\n",
      "3/3 [==============================] - 0s 82ms/step - loss: 0.0000e+00 - accuracy: 1.0000\n",
      "Epoch 92/150\n",
      "3/3 [==============================] - 0s 82ms/step - loss: 0.0000e+00 - accuracy: 1.0000\n",
      "Epoch 93/150\n",
      "3/3 [==============================] - 0s 80ms/step - loss: 0.0000e+00 - accuracy: 1.0000\n",
      "Epoch 94/150\n",
      "3/3 [==============================] - 0s 84ms/step - loss: 0.0000e+00 - accuracy: 1.0000\n",
      "Epoch 95/150\n",
      "3/3 [==============================] - 0s 83ms/step - loss: 0.0000e+00 - accuracy: 1.0000\n",
      "Epoch 96/150\n",
      "3/3 [==============================] - 0s 80ms/step - loss: 0.0000e+00 - accuracy: 1.0000\n",
      "Epoch 97/150\n",
      "3/3 [==============================] - 0s 78ms/step - loss: 0.0000e+00 - accuracy: 1.0000\n",
      "Epoch 98/150\n",
      "3/3 [==============================] - 0s 80ms/step - loss: 0.0000e+00 - accuracy: 1.0000\n",
      "Epoch 99/150\n",
      "3/3 [==============================] - 0s 82ms/step - loss: 0.0000e+00 - accuracy: 1.0000\n",
      "Epoch 100/150\n",
      "3/3 [==============================] - 0s 79ms/step - loss: 0.0000e+00 - accuracy: 1.0000\n",
      "Epoch 101/150\n",
      "3/3 [==============================] - 0s 83ms/step - loss: 0.0000e+00 - accuracy: 1.0000\n",
      "Epoch 102/150\n",
      "3/3 [==============================] - 0s 82ms/step - loss: 0.0000e+00 - accuracy: 1.0000\n",
      "Epoch 103/150\n",
      "3/3 [==============================] - 0s 84ms/step - loss: 0.0000e+00 - accuracy: 1.0000\n",
      "Epoch 104/150\n",
      "3/3 [==============================] - 0s 82ms/step - loss: 0.0000e+00 - accuracy: 1.0000\n",
      "Epoch 105/150\n",
      "3/3 [==============================] - 0s 80ms/step - loss: 0.0000e+00 - accuracy: 1.0000\n",
      "Epoch 106/150\n",
      "3/3 [==============================] - 0s 78ms/step - loss: 0.0000e+00 - accuracy: 1.0000\n",
      "Epoch 107/150\n",
      "3/3 [==============================] - 0s 85ms/step - loss: 0.0000e+00 - accuracy: 1.0000\n",
      "Epoch 108/150\n",
      "3/3 [==============================] - 0s 83ms/step - loss: 0.0000e+00 - accuracy: 1.0000\n",
      "Epoch 109/150\n",
      "3/3 [==============================] - 0s 83ms/step - loss: 0.0000e+00 - accuracy: 1.0000\n",
      "Epoch 110/150\n",
      "3/3 [==============================] - 0s 83ms/step - loss: 0.0000e+00 - accuracy: 1.0000\n",
      "Epoch 111/150\n",
      "3/3 [==============================] - 0s 83ms/step - loss: 0.0000e+00 - accuracy: 1.0000\n",
      "Epoch 112/150\n",
      "3/3 [==============================] - 0s 84ms/step - loss: 0.0000e+00 - accuracy: 1.0000\n",
      "Epoch 113/150\n",
      "3/3 [==============================] - 0s 83ms/step - loss: 0.0000e+00 - accuracy: 1.0000\n",
      "Epoch 114/150\n",
      "3/3 [==============================] - 0s 80ms/step - loss: 0.0000e+00 - accuracy: 1.0000\n",
      "Epoch 115/150\n",
      "3/3 [==============================] - 0s 79ms/step - loss: 0.0000e+00 - accuracy: 1.0000\n",
      "Epoch 116/150\n",
      "3/3 [==============================] - 0s 83ms/step - loss: 0.0000e+00 - accuracy: 1.0000\n",
      "Epoch 117/150\n",
      "3/3 [==============================] - 0s 90ms/step - loss: 0.0000e+00 - accuracy: 1.0000\n",
      "Epoch 118/150\n",
      "3/3 [==============================] - 0s 94ms/step - loss: 0.0000e+00 - accuracy: 1.0000\n",
      "Epoch 119/150\n",
      "3/3 [==============================] - 0s 85ms/step - loss: 0.0000e+00 - accuracy: 1.0000\n",
      "Epoch 120/150\n",
      "3/3 [==============================] - 0s 87ms/step - loss: 0.0000e+00 - accuracy: 1.0000\n",
      "Epoch 121/150\n",
      "3/3 [==============================] - 0s 80ms/step - loss: 0.0000e+00 - accuracy: 1.0000\n",
      "Epoch 122/150\n",
      "3/3 [==============================] - 0s 88ms/step - loss: 0.0000e+00 - accuracy: 1.0000\n",
      "Epoch 123/150\n",
      "3/3 [==============================] - 0s 81ms/step - loss: 0.0000e+00 - accuracy: 1.0000\n",
      "Epoch 124/150\n",
      "3/3 [==============================] - 0s 83ms/step - loss: 0.0000e+00 - accuracy: 1.0000\n",
      "Epoch 125/150\n",
      "3/3 [==============================] - 0s 80ms/step - loss: 0.0000e+00 - accuracy: 1.0000\n",
      "Epoch 126/150\n",
      "3/3 [==============================] - 0s 79ms/step - loss: 0.0000e+00 - accuracy: 1.0000\n",
      "Epoch 127/150\n",
      "3/3 [==============================] - 0s 79ms/step - loss: 0.0000e+00 - accuracy: 1.0000\n",
      "Epoch 128/150\n",
      "3/3 [==============================] - 0s 81ms/step - loss: 0.0000e+00 - accuracy: 1.0000\n",
      "Epoch 129/150\n",
      "3/3 [==============================] - 0s 83ms/step - loss: 0.0000e+00 - accuracy: 1.0000\n",
      "Epoch 130/150\n",
      "3/3 [==============================] - 0s 89ms/step - loss: 0.0000e+00 - accuracy: 1.0000\n",
      "Epoch 131/150\n",
      "3/3 [==============================] - 0s 84ms/step - loss: 0.0000e+00 - accuracy: 1.0000\n",
      "Epoch 132/150\n",
      "3/3 [==============================] - 0s 84ms/step - loss: 0.0000e+00 - accuracy: 1.0000\n",
      "Epoch 133/150\n",
      "3/3 [==============================] - 0s 86ms/step - loss: 0.0000e+00 - accuracy: 1.0000\n",
      "Epoch 134/150\n",
      "3/3 [==============================] - 0s 84ms/step - loss: 0.0000e+00 - accuracy: 1.0000\n",
      "Epoch 135/150\n",
      "3/3 [==============================] - 0s 83ms/step - loss: 0.0000e+00 - accuracy: 1.0000\n",
      "Epoch 136/150\n",
      "3/3 [==============================] - 0s 83ms/step - loss: 0.0000e+00 - accuracy: 1.0000\n",
      "Epoch 137/150\n",
      "3/3 [==============================] - 0s 78ms/step - loss: 0.0000e+00 - accuracy: 1.0000\n",
      "Epoch 138/150\n",
      "3/3 [==============================] - 0s 84ms/step - loss: 0.0000e+00 - accuracy: 1.0000\n",
      "Epoch 139/150\n",
      "3/3 [==============================] - 0s 80ms/step - loss: 0.0000e+00 - accuracy: 1.0000\n",
      "Epoch 140/150\n",
      "3/3 [==============================] - 0s 83ms/step - loss: 0.0000e+00 - accuracy: 1.0000\n",
      "Epoch 141/150\n",
      "3/3 [==============================] - 0s 83ms/step - loss: 0.0000e+00 - accuracy: 1.0000\n",
      "Epoch 142/150\n",
      "3/3 [==============================] - 0s 86ms/step - loss: 0.0000e+00 - accuracy: 1.0000\n",
      "Epoch 143/150\n",
      "3/3 [==============================] - 0s 84ms/step - loss: 0.0000e+00 - accuracy: 1.0000\n",
      "Epoch 144/150\n",
      "3/3 [==============================] - 0s 84ms/step - loss: 0.0000e+00 - accuracy: 1.0000\n",
      "Epoch 145/150\n",
      "3/3 [==============================] - 0s 82ms/step - loss: 0.0000e+00 - accuracy: 1.0000\n",
      "Epoch 146/150\n",
      "3/3 [==============================] - 0s 95ms/step - loss: 0.0000e+00 - accuracy: 1.0000\n",
      "Epoch 147/150\n",
      "3/3 [==============================] - 0s 83ms/step - loss: 0.0000e+00 - accuracy: 1.0000\n",
      "Epoch 148/150\n",
      "3/3 [==============================] - 0s 82ms/step - loss: 0.0000e+00 - accuracy: 1.0000\n",
      "Epoch 149/150\n",
      "3/3 [==============================] - 0s 84ms/step - loss: 0.0000e+00 - accuracy: 1.0000\n",
      "Epoch 150/150\n",
      "3/3 [==============================] - 0s 85ms/step - loss: 0.0000e+00 - accuracy: 1.0000\n"
     ]
    }
   ],
   "source": [
    "history_1 = M1.fit(a_train, b_train, epochs=150, batch_size=40)"
   ]
  },
  {
   "cell_type": "code",
   "execution_count": 43,
   "id": "ba5e16df-e03a-4f61-8d96-eca471c4492c",
   "metadata": {},
   "outputs": [
    {
     "data": {
      "text/plain": [
       "array([[0.000000e+00, 0.000000e+00, 1.000000e+00],\n",
       "       [1.000000e+00, 0.000000e+00, 0.000000e+00],\n",
       "       [0.000000e+00, 0.000000e+00, 1.000000e+00],\n",
       "       [1.000000e+00, 0.000000e+00, 0.000000e+00],\n",
       "       [1.000000e+00, 0.000000e+00, 0.000000e+00],\n",
       "       [1.000000e+00, 0.000000e+00, 0.000000e+00],\n",
       "       [1.000000e+00, 0.000000e+00, 0.000000e+00],\n",
       "       [1.000000e+00, 0.000000e+00, 0.000000e+00],\n",
       "       [0.000000e+00, 0.000000e+00, 1.000000e+00],\n",
       "       [1.000000e+00, 0.000000e+00, 0.000000e+00],\n",
       "       [0.000000e+00, 0.000000e+00, 1.000000e+00],\n",
       "       [0.000000e+00, 0.000000e+00, 1.000000e+00],\n",
       "       [1.000000e+00, 0.000000e+00, 0.000000e+00],\n",
       "       [0.000000e+00, 0.000000e+00, 1.000000e+00],\n",
       "       [1.000000e+00, 0.000000e+00, 0.000000e+00],\n",
       "       [1.000000e+00, 0.000000e+00, 0.000000e+00],\n",
       "       [1.000000e+00, 0.000000e+00, 0.000000e+00],\n",
       "       [1.000000e+00, 0.000000e+00, 0.000000e+00],\n",
       "       [0.000000e+00, 0.000000e+00, 1.000000e+00],\n",
       "       [0.000000e+00, 0.000000e+00, 1.000000e+00],\n",
       "       [1.000000e+00, 1.967672e-19, 0.000000e+00],\n",
       "       [0.000000e+00, 1.000000e+00, 0.000000e+00],\n",
       "       [1.000000e+00, 0.000000e+00, 0.000000e+00],\n",
       "       [1.000000e+00, 0.000000e+00, 0.000000e+00],\n",
       "       [0.000000e+00, 0.000000e+00, 1.000000e+00],\n",
       "       [0.000000e+00, 0.000000e+00, 1.000000e+00],\n",
       "       [6.864365e-06, 0.000000e+00, 9.999931e-01],\n",
       "       [0.000000e+00, 0.000000e+00, 1.000000e+00],\n",
       "       [0.000000e+00, 1.000000e+00, 0.000000e+00],\n",
       "       [0.000000e+00, 1.000000e+00, 0.000000e+00]], dtype=float32)"
      ]
     },
     "execution_count": 43,
     "metadata": {},
     "output_type": "execute_result"
    }
   ],
   "source": [
    "pred_m = M1.predict(a_test)\n",
    "pred_m"
   ]
  },
  {
   "cell_type": "code",
   "execution_count": 44,
   "id": "c1783e33-da5a-458f-9f4c-6d8a0000283f",
   "metadata": {},
   "outputs": [
    {
     "data": {
      "text/plain": [
       "(30, 3)"
      ]
     },
     "execution_count": 44,
     "metadata": {},
     "output_type": "execute_result"
    }
   ],
   "source": [
    "pred_m.shape"
   ]
  },
  {
   "cell_type": "code",
   "execution_count": 45,
   "id": "8ed85ff1-632c-40dc-8144-688cdfc545f5",
   "metadata": {},
   "outputs": [],
   "source": [
    "kar=np.argmax(pred_m, axis=1)"
   ]
  },
  {
   "cell_type": "code",
   "execution_count": 46,
   "id": "6afa6505-9633-49b4-b107-2ea934e5a3bf",
   "metadata": {},
   "outputs": [
    {
     "name": "stdout",
     "output_type": "stream",
     "text": [
      "              precision    recall  f1-score   support\n",
      "\n",
      "           1       0.40      0.60      0.48        10\n",
      "           2       1.00      0.33      0.50         9\n",
      "           3       0.50      0.55      0.52        11\n",
      "\n",
      "    accuracy                           0.50        30\n",
      "   macro avg       0.63      0.49      0.50        30\n",
      "weighted avg       0.62      0.50      0.50        30\n",
      "\n"
     ]
    }
   ],
   "source": [
    "print(classification_report(b_test,kar,target_names=class_label))"
   ]
  },
  {
   "cell_type": "code",
   "execution_count": 47,
   "id": "b5d2c500-ce08-4a77-9117-42cdda79be9e",
   "metadata": {},
   "outputs": [],
   "source": [
    "conf_mat = confusion_matrix(b_test,kar)\n",
    "\n",
    "df = pd.DataFrame(conf_mat, index = class_label, columns = class_label)"
   ]
  },
  {
   "cell_type": "code",
   "execution_count": 48,
   "id": "a9572335-1a64-4a1c-b93c-1860aa5de422",
   "metadata": {},
   "outputs": [
    {
     "data": {
      "text/plain": [
       "<AxesSubplot:>"
      ]
     },
     "execution_count": 48,
     "metadata": {},
     "output_type": "execute_result"
    },
    {
     "data": {
      "image/png": "[encoded data removed]",
      "text/plain": [
       "<Figure size 432x288 with 2 Axes>"
      ]
     },
     "metadata": {
      "needs_background": "light"
     },
     "output_type": "display_data"
    }
   ],
   "source": [
    "sns.heatmap(df, annot = True,fmt=\"d\")\n"
   ]
  },
  {
   "cell_type": "code",
   "execution_count": null,
   "id": "4a324b1e-06a2-4776-b3f4-dc56ff80b9af",
   "metadata": {},
   "outputs": [],
   "source": []
  }
 ],
 "metadata": {
  "kernelspec": {
   "display_name": "Python 3 (ipykernel)",
   "language": "python",
   "name": "python3"
  },
  "language_info": {
   "codemirror_mode": {
    "name": "ipython",
    "version": 3
   },
   "file_extension": ".py",
   "mimetype": "text/x-python",
   "name": "python",
   "nbconvert_exporter": "python",
   "pygments_lexer": "ipython3",
   "version": "3.9.7"
  }
 },
 "nbformat": 4,
 "nbformat_minor": 5
}

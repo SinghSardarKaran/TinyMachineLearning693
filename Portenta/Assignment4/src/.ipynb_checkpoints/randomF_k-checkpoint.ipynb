{
 "cells": [
  {
   "cell_type": "code",
   "execution_count": 1,
   "id": "190a02ad-f4ee-4a1e-8757-57423663efcc",
   "metadata": {},
   "outputs": [],
   "source": [
    "from skimage import io\n",
    "import numpy as np\n",
    "import os\n",
    "import pandas as pd\n",
    "import seaborn as sns"
   ]
  },
  {
   "cell_type": "code",
   "execution_count": null,
   "id": "f3662711-3210-40e8-91cd-b0c289dfd6b9",
   "metadata": {},
   "outputs": [],
   "source": []
  },
  {
   "cell_type": "code",
   "execution_count": 2,
   "id": "cc38523a-f1df-4039-9de9-364b1ffb31cb",
   "metadata": {},
   "outputs": [],
   "source": [
    "from skimage import io\n",
    "import numpy as np\n",
    "import os\n",
    "import pandas as pd\n",
    "import seaborn as sns"
   ]
  },
  {
   "cell_type": "code",
   "execution_count": 3,
   "id": "96bd2f61-62f0-45b3-b803-392977d42720",
   "metadata": {},
   "outputs": [],
   "source": [
    "import warnings\n",
    "warnings.filterwarnings('ignore')"
   ]
  },
  {
   "cell_type": "code",
   "execution_count": 4,
   "id": "325764fe-95d0-4849-a53e-314887579bfe",
   "metadata": {},
   "outputs": [],
   "source": [
    "folder = '../class_data/Apple-20220324T003432Z-001'\n",
    "images = [os.path.join(root, filename)\n",
    "          for root, dirs, files in os.walk(folder)\n",
    "          for filename in files\n",
    "          if filename.lower().endswith('.jpg')]\n",
    "\n",
    "ic = []\n",
    "for img in images:\n",
    "    ic.append(io.imread(img))"
   ]
  },
  {
   "cell_type": "code",
   "execution_count": 5,
   "id": "b14cbaa5-095f-4d9e-92af-1b7dc3e94087",
   "metadata": {},
   "outputs": [],
   "source": [
    "a1 = []\n",
    "for i in range(len(ic)):\n",
    "    a1.append(ic[i][:,:,0].flatten())\n",
    "\n",
    "b1 = np.array([0]*650 + [1] * 650 + [2]*650)"
   ]
  },
  {
   "cell_type": "code",
   "execution_count": 6,
   "id": "fe281113-73ad-4daa-a5cd-6f35c02c7d6b",
   "metadata": {},
   "outputs": [
    {
     "data": {
      "text/plain": [
       "(1950, 76800)"
      ]
     },
     "execution_count": 6,
     "metadata": {},
     "output_type": "execute_result"
    }
   ],
   "source": [
    "a1 = np.array(a1)\n",
    "a1.shape"
   ]
  },
  {
   "cell_type": "code",
   "execution_count": 7,
   "id": "efa3a647-57a4-43ee-9abc-7ef49d9d06c9",
   "metadata": {},
   "outputs": [
    {
     "data": {
      "text/plain": [
       "array([0, 0, 0, ..., 2, 2, 2])"
      ]
     },
     "execution_count": 7,
     "metadata": {},
     "output_type": "execute_result"
    }
   ],
   "source": [
    "b1"
   ]
  },
  {
   "cell_type": "code",
   "execution_count": 8,
   "id": "1fc95f45-d428-47fe-82b2-a22375741c40",
   "metadata": {},
   "outputs": [],
   "source": [
    "from sklearn.tree import DecisionTreeClassifier\n",
    "from sklearn.linear_model import LogisticRegression\n",
    "from sklearn.model_selection import train_test_split\n",
    "from sklearn.metrics import classification_report\n",
    "from sklearn.metrics import confusion_matrix\n",
    "from sklearn.ensemble import RandomForestClassifier\n",
    "import seaborn as sns\n",
    "import matplotlib.pyplot as plt\n",
    "\n",
    "import sys,os\n",
    "import pandas as pd\n",
    "import numpy as np"
   ]
  },
  {
   "cell_type": "code",
   "execution_count": 9,
   "id": "9a098155-4186-4401-b2e5-9512d514fd63",
   "metadata": {},
   "outputs": [
    {
     "name": "stdout",
     "output_type": "stream",
     "text": [
      "(1560, 76800)\n",
      "(390, 76800)\n",
      "(1560,)\n",
      "(390,)\n"
     ]
    }
   ],
   "source": [
    "a_train, a_test, b_train, b_test = train_test_split(a1,b1,train_size=0.8)\n",
    "print(a_train.shape)\n",
    "print(a_test.shape)\n",
    "print(b_train.shape)\n",
    "print(b_test.shape)"
   ]
  },
  {
   "cell_type": "code",
   "execution_count": 10,
   "id": "1f4ae5fa-19f5-4b23-b653-6566e19dbe01",
   "metadata": {},
   "outputs": [
    {
     "data": {
      "text/plain": [
       "RandomForestClassifier(max_depth=2)"
      ]
     },
     "execution_count": 10,
     "metadata": {},
     "output_type": "execute_result"
    }
   ],
   "source": [
    "import warnings\n",
    "warnings.filterwarnings(\"ignore\")\n",
    "rfm = RandomForestClassifier(max_depth=2)\n",
    "rfm.fit(a_train,b_train)"
   ]
  },
  {
   "cell_type": "code",
   "execution_count": 11,
   "id": "8ea788f4-a186-416b-820c-2a48c4006b66",
   "metadata": {},
   "outputs": [
    {
     "data": {
      "text/plain": [
       "array([0, 0, 2, ..., 1, 2, 0])"
      ]
     },
     "execution_count": 11,
     "metadata": {},
     "output_type": "execute_result"
    }
   ],
   "source": [
    "b1_train_rf = rfm.predict(a_train)\n",
    "b1_train_rf"
   ]
  },
  {
   "cell_type": "code",
   "execution_count": 14,
   "id": "3137d3e2-9ef4-4f0e-a99e-858917212e0a",
   "metadata": {},
   "outputs": [
    {
     "data": {
      "text/plain": [
       "array([2, 2, 1, 1, 2, 2, 1, 1, 0, 1, 0, 1, 1, 1, 1, 0, 2, 1, 1, 0, 1, 1,\n",
       "       0, 1, 2, 2, 2, 0, 1, 0, 1, 1, 1, 2, 1, 1, 2, 0, 2, 2, 2, 1, 2, 1,\n",
       "       2, 0, 1, 2, 0, 0, 2, 1, 0, 1, 0, 1, 2, 1, 2, 0, 1, 2, 0, 0, 0, 1,\n",
       "       0, 1, 1, 0, 0, 2, 2, 2, 1, 1, 1, 0, 2, 2, 1, 1, 2, 2, 1, 0, 0, 1,\n",
       "       1, 1, 0, 1, 2, 0, 1, 1, 1, 2, 1, 1, 2, 1, 1, 2, 1, 2, 1, 1, 1, 0,\n",
       "       1, 1, 2, 0, 0, 2, 2, 1, 0, 2, 1, 1, 1, 0, 2, 1, 1, 2, 1, 0, 0, 1,\n",
       "       1, 2, 2, 0, 1, 2, 2, 2, 1, 0, 0, 1, 1, 2, 0, 2, 0, 1, 0, 2, 0, 2,\n",
       "       1, 2, 1, 0, 0, 0, 2, 1, 2, 0, 1, 1, 2, 1, 2, 1, 1, 2, 2, 2, 2, 2,\n",
       "       2, 0, 0, 1, 0, 0, 0, 1, 2, 2, 0, 2, 0, 1, 2, 0, 1, 2, 2, 1, 2, 2,\n",
       "       1, 0, 0, 2, 2, 1, 0, 1, 2, 1, 0, 2, 2, 1, 1, 2, 2, 0, 2, 1, 2, 1,\n",
       "       1, 1, 1, 2, 1, 0, 2, 2, 2, 0, 0, 2, 2, 0, 0, 1, 2, 1, 1, 1, 2, 2,\n",
       "       2, 0, 2, 1, 0, 1, 1, 2, 1, 1, 1, 0, 2, 1, 1, 1, 2, 0, 2, 1, 1, 1,\n",
       "       0, 2, 1, 2, 0, 2, 1, 2, 2, 2, 0, 2, 2, 1, 1, 2, 0, 2, 1, 2, 0, 2,\n",
       "       1, 0, 2, 0, 2, 1, 0, 1, 2, 2, 1, 1, 1, 0, 2, 2, 1, 0, 1, 2, 1, 0,\n",
       "       2, 2, 1, 2, 1, 1, 1, 0, 0, 1, 0, 2, 2, 2, 1, 1, 0, 1, 1, 0, 2, 1,\n",
       "       1, 1, 2, 1, 1, 1, 1, 2, 1, 1, 2, 1, 1, 1, 2, 1, 2, 1, 1, 1, 1, 1,\n",
       "       2, 2, 0, 2, 0, 1, 1, 1, 1, 1, 1, 0, 0, 1, 2, 1, 1, 1, 0, 1, 0, 1,\n",
       "       1, 1, 1, 1, 0, 0, 0, 1, 2, 0, 0, 1, 0, 2, 1, 1])"
      ]
     },
     "execution_count": 14,
     "metadata": {},
     "output_type": "execute_result"
    }
   ],
   "source": [
    "b1_test_rf = rfm.predict(a_test)\n",
    "b1_test_rf"
   ]
  },
  {
   "cell_type": "code",
   "execution_count": 15,
   "id": "ec4eef67-de24-4081-a63b-9619d9a9ada7",
   "metadata": {},
   "outputs": [
    {
     "name": "stdout",
     "output_type": "stream",
     "text": [
      "              precision    recall  f1-score   support\n",
      "\n",
      "           1       0.44      0.30      0.36       135\n",
      "           2       0.49      0.64      0.56       129\n",
      "           3       0.46      0.47      0.47       126\n",
      "\n",
      "    accuracy                           0.47       390\n",
      "   macro avg       0.46      0.47      0.46       390\n",
      "weighted avg       0.46      0.47      0.46       390\n",
      "\n"
     ]
    }
   ],
   "source": [
    "target_names = ['1', '2','3']\n",
    "\n",
    "print(classification_report(b_test,b1_test_rf,target_names=target_names))"
   ]
  },
  {
   "cell_type": "code",
   "execution_count": 16,
   "id": "d9c34abe-8239-49f9-a1ea-645075eae4ef",
   "metadata": {},
   "outputs": [
    {
     "name": "stdout",
     "output_type": "stream",
     "text": [
      "              precision    recall  f1-score   support\n",
      "\n",
      "           1       0.52      0.40      0.45       515\n",
      "           2       0.56      0.70      0.62       521\n",
      "           3       0.55      0.53      0.54       524\n",
      "\n",
      "    accuracy                           0.54      1560\n",
      "   macro avg       0.54      0.54      0.54      1560\n",
      "weighted avg       0.54      0.54      0.54      1560\n",
      "\n"
     ]
    }
   ],
   "source": [
    "target_names = ['1', '2','3']\n",
    "\n",
    "print(classification_report(b_train,b1_train_rf,target_names=target_names))"
   ]
  },
  {
   "cell_type": "code",
   "execution_count": 17,
   "id": "0ce2dfd5-c288-48e0-a01d-62ffdd8aacf2",
   "metadata": {},
   "outputs": [
    {
     "data": {
      "text/plain": [
       "array([[208, 145, 162],\n",
       "       [ 92, 365,  64],\n",
       "       [101, 146, 277]], dtype=int64)"
      ]
     },
     "execution_count": 17,
     "metadata": {},
     "output_type": "execute_result"
    }
   ],
   "source": [
    "conf_mat = confusion_matrix(b_train,b1_train_rf)\n",
    "conf_mat"
   ]
  },
  {
   "cell_type": "code",
   "execution_count": 18,
   "id": "ed7b802d-b1b3-418d-8e98-c79a3e1c6e7f",
   "metadata": {},
   "outputs": [
    {
     "data": {
      "text/plain": [
       "array([[41, 53, 41],\n",
       "       [19, 83, 27],\n",
       "       [33, 34, 59]], dtype=int64)"
      ]
     },
     "execution_count": 18,
     "metadata": {},
     "output_type": "execute_result"
    }
   ],
   "source": [
    "conf_mat = confusion_matrix(b_test,b1_test_rf)\n",
    "conf_mat"
   ]
  },
  {
   "cell_type": "code",
   "execution_count": null,
   "id": "07b165ce-8263-45c0-abf6-ba5b135c2a84",
   "metadata": {},
   "outputs": [],
   "source": []
  }
 ],
 "metadata": {
  "kernelspec": {
   "display_name": "Python 3 (ipykernel)",
   "language": "python",
   "name": "python3"
  },
  "language_info": {
   "codemirror_mode": {
    "name": "ipython",
    "version": 3
   },
   "file_extension": ".py",
   "mimetype": "text/x-python",
   "name": "python",
   "nbconvert_exporter": "python",
   "pygments_lexer": "ipython3",
   "version": "3.9.7"
  }
 },
 "nbformat": 4,
 "nbformat_minor": 5
}

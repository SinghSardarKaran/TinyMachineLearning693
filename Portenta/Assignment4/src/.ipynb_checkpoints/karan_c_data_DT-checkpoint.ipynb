{
 "cells": [
  {
   "cell_type": "code",
   "execution_count": 1,
   "id": "f09727b5-b102-47c1-97c7-3d1324a2d3f3",
   "metadata": {},
   "outputs": [],
   "source": [
    "from skimage import io\n",
    "import numpy as np\n",
    "import os\n",
    "import pandas as pd\n",
    "import seaborn as sns"
   ]
  },
  {
   "cell_type": "code",
   "execution_count": 2,
   "id": "4964e262-ae7a-4953-9424-3e13e3b62c27",
   "metadata": {},
   "outputs": [],
   "source": [
    "import warnings\n",
    "warnings.filterwarnings('ignore')"
   ]
  },
  {
   "cell_type": "code",
   "execution_count": 3,
   "id": "f1d108f7-bbf3-420e-8522-5560b9119f5f",
   "metadata": {},
   "outputs": [],
   "source": [
    "folder = '../class_data/Apple-20220324T003432Z-001'\n",
    "images = [os.path.join(root, filename)\n",
    "          for root, dirs, files in os.walk(folder)\n",
    "          for filename in files\n",
    "          if filename.lower().endswith('.jpg')]\n",
    "\n",
    "ic = []\n",
    "for img in images:\n",
    "    ic.append(io.imread(img))"
   ]
  },
  {
   "cell_type": "code",
   "execution_count": 4,
   "id": "25502305-7065-4296-a409-c32a31c183b3",
   "metadata": {},
   "outputs": [],
   "source": [
    "a1 = []\n",
    "for i in range(len(ic)):\n",
    "    a1.append(ic[i][:,:,0].flatten())\n",
    "\n",
    "b1 = np.array([0]*650 + [1] * 650 + [2]*650)"
   ]
  },
  {
   "cell_type": "code",
   "execution_count": 5,
   "id": "2cb8f049-60be-4660-89d3-1aeb37c36b4f",
   "metadata": {},
   "outputs": [
    {
     "data": {
      "text/plain": [
       "(1950, 76800)"
      ]
     },
     "execution_count": 5,
     "metadata": {},
     "output_type": "execute_result"
    }
   ],
   "source": [
    "a1 = np.array(a1)\n",
    "a1.shape"
   ]
  },
  {
   "cell_type": "code",
   "execution_count": 6,
   "id": "4504df9e-b6d4-4360-8d51-9555518f5859",
   "metadata": {},
   "outputs": [
    {
     "data": {
      "text/plain": [
       "array([0, 0, 0, ..., 2, 2, 2])"
      ]
     },
     "execution_count": 6,
     "metadata": {},
     "output_type": "execute_result"
    }
   ],
   "source": [
    "b1"
   ]
  },
  {
   "cell_type": "code",
   "execution_count": 7,
   "id": "addeae31-62b8-45a3-a2ea-abf76476b7d4",
   "metadata": {},
   "outputs": [],
   "source": [
    "from sklearn.tree import DecisionTreeClassifier\n",
    "from sklearn.linear_model import LogisticRegression\n",
    "from sklearn.model_selection import train_test_split\n",
    "from sklearn.metrics import classification_report\n",
    "from sklearn.metrics import confusion_matrix\n",
    "from sklearn.ensemble import RandomForestClassifier\n",
    "import seaborn as sns\n",
    "import matplotlib.pyplot as plt\n",
    "\n",
    "import sys,os\n",
    "import pandas as pd\n",
    "import numpy as np"
   ]
  },
  {
   "cell_type": "code",
   "execution_count": 8,
   "id": "ec577998-691a-42d8-9282-9c3faf17c9dc",
   "metadata": {},
   "outputs": [
    {
     "name": "stdout",
     "output_type": "stream",
     "text": [
      "(1560, 76800)\n",
      "(390, 76800)\n",
      "(1560,)\n",
      "(390,)\n"
     ]
    }
   ],
   "source": [
    "a_train, a_test, b_train, b_test = train_test_split(a1,b1,train_size=0.8)\n",
    "print(a_train.shape)\n",
    "print(a_test.shape)\n",
    "print(b_train.shape)\n",
    "print(b_test.shape)"
   ]
  },
  {
   "cell_type": "code",
   "execution_count": 10,
   "id": "dc8440fd-4f6c-4d12-bf3b-9b6b42f571df",
   "metadata": {},
   "outputs": [
    {
     "data": {
      "text/plain": [
       "DecisionTreeClassifier()"
      ]
     },
     "execution_count": 10,
     "metadata": {},
     "output_type": "execute_result"
    }
   ],
   "source": [
    "import warnings\n",
    "warnings.filterwarnings(\"ignore\")\n",
    "dtc = DecisionTreeClassifier()\n",
    "dtc.fit(a_train,b_train)"
   ]
  },
  {
   "cell_type": "code",
   "execution_count": 11,
   "id": "f763a9b6-dda9-4bb1-95d1-55c3a4c05f23",
   "metadata": {},
   "outputs": [
    {
     "data": {
      "text/plain": [
       "array([0, 0, 0, 2, 0, 1, 0, 1, 0, 0, 2, 2, 0, 0, 1, 1, 0, 1, 0, 2, 1, 0,\n",
       "       0, 0, 1, 0, 0, 0, 1, 0, 0, 1, 0, 1, 0, 2, 2, 2, 0, 2, 2, 1, 2, 2,\n",
       "       1, 2, 0, 0, 1, 2, 1, 1, 0, 2, 2, 1, 1, 2, 0, 1, 2, 1, 0, 0, 1, 1,\n",
       "       0, 0, 2, 2, 1, 1, 2, 1, 0, 1, 1, 1, 0, 1, 0, 2, 1, 2, 1, 1, 2, 1,\n",
       "       1, 1, 0, 1, 0, 0, 0, 0, 0, 0, 0, 0, 2, 2, 2, 2, 1, 2, 2, 0, 1, 1,\n",
       "       0, 1, 2, 1, 0, 1, 2, 1, 1, 2, 2, 2, 2, 0, 0, 2, 0, 1, 0, 2, 2, 1,\n",
       "       0, 2, 0, 1, 1, 2, 2, 0, 0, 2, 1, 1, 0, 2, 0, 2, 2, 2, 0, 1, 1, 0,\n",
       "       0, 0, 2, 0, 1, 0, 2, 0, 0, 1, 2, 0, 0, 2, 1, 2, 0, 2, 0, 2, 1, 0,\n",
       "       0, 2, 1, 1, 2, 0, 0, 1, 1, 1, 0, 1, 2, 0, 2, 1, 2, 0, 0, 0, 0, 1,\n",
       "       2, 0, 2, 1, 1, 2, 2, 0, 2, 0, 0, 0, 2, 2, 0, 1, 2, 1, 0, 2, 1, 0,\n",
       "       1, 1, 0, 2, 0, 1, 2, 1, 0, 1, 1, 0, 2, 0, 0, 0, 1, 2, 2, 2, 2, 1,\n",
       "       2, 1, 2, 2, 0, 2, 1, 0, 0, 2, 2, 2, 2, 2, 2, 0, 1, 0, 1, 1, 1, 0,\n",
       "       1, 2, 1, 0, 2, 0, 1, 2, 1, 1, 0, 0, 1, 2, 1, 1, 2, 1, 2, 1, 2, 0,\n",
       "       1, 0, 1, 2, 2, 1, 0, 0, 0, 2, 2, 2, 2, 1, 1, 1, 0, 1, 1, 1, 0, 2,\n",
       "       1, 2, 2, 0, 1, 1, 0, 2, 2, 0, 0, 1, 0, 0, 1, 0, 0, 0, 2, 0, 2, 2,\n",
       "       1, 0, 0, 1, 1, 0, 0, 1, 0, 0, 2, 1, 1, 2, 0, 0, 0, 2, 1, 2, 1, 0,\n",
       "       0, 1, 2, 1, 1, 0, 1, 1, 1, 2, 2, 0, 0, 1, 2, 1, 1, 2, 1, 0, 1, 0,\n",
       "       2, 2, 1, 0, 0, 0, 2, 1, 2, 0, 0, 0, 2, 1, 0, 1])"
      ]
     },
     "execution_count": 11,
     "metadata": {},
     "output_type": "execute_result"
    }
   ],
   "source": [
    "b1_test_dt = dtc.predict(a_test)\n",
    "b1_test_dt"
   ]
  },
  {
   "cell_type": "code",
   "execution_count": 12,
   "id": "729c69bf-c6c6-43bd-8dfa-8c57851d12f8",
   "metadata": {},
   "outputs": [
    {
     "data": {
      "text/plain": [
       "array([0, 1, 2, ..., 0, 0, 1])"
      ]
     },
     "execution_count": 12,
     "metadata": {},
     "output_type": "execute_result"
    }
   ],
   "source": [
    "b1_train_dt = dtc.predict(a_train)\n",
    "b1_train_dt"
   ]
  },
  {
   "cell_type": "code",
   "execution_count": 13,
   "id": "41b76039-db39-4914-abbf-843d5956f055",
   "metadata": {},
   "outputs": [
    {
     "name": "stdout",
     "output_type": "stream",
     "text": [
      "              precision    recall  f1-score   support\n",
      "\n",
      "           1       0.49      0.52      0.51       134\n",
      "           2       0.49      0.49      0.49       129\n",
      "           3       0.52      0.49      0.50       127\n",
      "\n",
      "    accuracy                           0.50       390\n",
      "   macro avg       0.50      0.50      0.50       390\n",
      "weighted avg       0.50      0.50      0.50       390\n",
      "\n"
     ]
    }
   ],
   "source": [
    "target_names = ['1', '2','3']\n",
    "\n",
    "print(classification_report(b_test,b1_test_dt,target_names=target_names))"
   ]
  },
  {
   "cell_type": "code",
   "execution_count": 14,
   "id": "a439eafe-61c2-4569-a509-1bafdf74133a",
   "metadata": {},
   "outputs": [
    {
     "name": "stdout",
     "output_type": "stream",
     "text": [
      "              precision    recall  f1-score   support\n",
      "\n",
      "           1       1.00      1.00      1.00       516\n",
      "           2       1.00      1.00      1.00       521\n",
      "           3       1.00      1.00      1.00       523\n",
      "\n",
      "    accuracy                           1.00      1560\n",
      "   macro avg       1.00      1.00      1.00      1560\n",
      "weighted avg       1.00      1.00      1.00      1560\n",
      "\n"
     ]
    }
   ],
   "source": [
    "target_names = ['1', '2','3']\n",
    "\n",
    "print(classification_report(b_train,b1_train_dt,target_names=target_names))"
   ]
  },
  {
   "cell_type": "code",
   "execution_count": 15,
   "id": "c7ab750f-673a-41a9-bbfa-05a78fd23359",
   "metadata": {},
   "outputs": [
    {
     "data": {
      "text/plain": [
       "array([[516,   0,   0],\n",
       "       [  0, 521,   0],\n",
       "       [  0,   0, 523]], dtype=int64)"
      ]
     },
     "execution_count": 15,
     "metadata": {},
     "output_type": "execute_result"
    }
   ],
   "source": [
    "conf_mat = confusion_matrix(b_train,b1_train_dt)\n",
    "conf_mat"
   ]
  },
  {
   "cell_type": "code",
   "execution_count": 16,
   "id": "8590610f-d0a1-41be-8c28-165b1b0cd57c",
   "metadata": {},
   "outputs": [
    {
     "data": {
      "text/plain": [
       "array([[70, 32, 32],\n",
       "       [41, 63, 25],\n",
       "       [31, 34, 62]], dtype=int64)"
      ]
     },
     "execution_count": 16,
     "metadata": {},
     "output_type": "execute_result"
    }
   ],
   "source": [
    "conf_mat = confusion_matrix(b_test,b1_test_dt)\n",
    "conf_mat"
   ]
  },
  {
   "cell_type": "code",
   "execution_count": null,
   "id": "78a48155-ba25-45e4-a810-9fe686f04a6c",
   "metadata": {},
   "outputs": [],
   "source": []
  }
 ],
 "metadata": {
  "kernelspec": {
   "display_name": "Python 3 (ipykernel)",
   "language": "python",
   "name": "python3"
  },
  "language_info": {
   "codemirror_mode": {
    "name": "ipython",
    "version": 3
   },
   "file_extension": ".py",
   "mimetype": "text/x-python",
   "name": "python",
   "nbconvert_exporter": "python",
   "pygments_lexer": "ipython3",
   "version": "3.9.7"
  }
 },
 "nbformat": 4,
 "nbformat_minor": 5
}
